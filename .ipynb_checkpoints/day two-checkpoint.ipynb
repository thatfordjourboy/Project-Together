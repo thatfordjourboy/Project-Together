{
 "cells": [
  {
   "cell_type": "markdown",
   "id": "b94fb274-d5cb-4c06-b60b-dbeadfa0246b",
   "metadata": {},
   "source": [
    "## #30DayofPythonCode – Day 2 Task: Explore Python's core data types (int, float, string, list, tuple, dictionary) and type conversion"
   ]
  },
  {
   "cell_type": "markdown",
   "id": "250489e9-b77a-4dfa-a420-6c2f909f5d12",
   "metadata": {},
   "source": [
    "#### Part 1: Create variables of different types: int, float, string, list, tuple, and dictionary.\n",
    "#### Part 2: Perform operations on each type: concatenate strings, add numbers, access list and dictionary elements.\n",
    "#### Part 3: Convert between data types (e.g., from float to int, list to tuple, etc.)."
   ]
  },
  {
   "cell_type": "code",
   "execution_count": 28,
   "id": "ac86af71-135c-4858-9640-8a9671de9115",
   "metadata": {},
   "outputs": [
    {
     "name": "stdout",
     "output_type": "stream",
     "text": [
      "The variable named 'my_int' is a/an int\n",
      "The variable named 'my_float' is a/an float\n",
      "The variable named 'my_string' is a/an str\n",
      "The variable named 'my_list' is a/an list\n",
      "The variable named 'my_tuple' is a/an tuple\n",
      "The variable named 'my_dict' is a/an dict\n"
     ]
    }
   ],
   "source": [
    "# part one\n",
    "my_int = 45\n",
    "my_float = 54.88\n",
    "my_string = \"This is a new day!\"\n",
    "my_list = [\"boy\", 9, \"girl\", \"whew\", 199]\n",
    "my_tuple = (\"boy\", 9, \"girl\", \"whew\", 199)\n",
    "my_dict = {\"name\": \"Eleazer\",\n",
    "           \"age\": 28,\n",
    "           \"school\": \"University of Ghana\",\n",
    "           \"marital status\": \"single\"}\n",
    "\n",
    "#validation\n",
    "check_int, check_float, check_string, check_list, check_tuple, check_dict = type(my_int), type(my_float), type(my_string), type(my_list), type(my_tuple), type(my_dict)\n",
    "print(f\"The variable named 'my_int' is a/an {check_int.__name__}\")\n",
    "print(f\"The variable named 'my_float' is a/an {check_float.__name__}\")\n",
    "print(f\"The variable named 'my_string' is a/an {check_string.__name__}\")\n",
    "print(f\"The variable named 'my_list' is a/an {check_list.__name__}\")\n",
    "print(f\"The variable named 'my_tuple' is a/an {check_tuple.__name__}\")\n",
    "print(f\"The variable named 'my_dict' is a/an {check_dict.__name__}\")"
   ]
  },
  {
   "cell_type": "code",
   "execution_count": 17,
   "id": "ecdba207-4e27-4aa9-a339-6d5f51fd1d34",
   "metadata": {},
   "outputs": [
    {
     "name": "stdout",
     "output_type": "stream",
     "text": [
      "Outcome of string Concatenation: This is a boy. Also, This is a girl\n",
      "Outcome of 'int' adition: 3\n",
      "The fourth element in the list is: b\n"
     ]
    }
   ],
   "source": [
    "# part two\n",
    "str_a = \"This is a boy\"\n",
    "str_b = \"This is a girl\"\n",
    "str_cat = str_a + \". Also, \" + str_b\n",
    "print(\"Outcome of string Concatenation:\", str_cat)\n",
    "\n",
    "a = 1\n",
    "b = 2\n",
    "c = a + b\n",
    "print(\"Outcome of 'int' adition:\", c)\n",
    "\n",
    "my_list = [1, 2, 'a', 'b', 9]\n",
    "four_place = my_list[3]\n",
    "print(\"The fourth element in the list is:\",four_place)\n",
    "\n",
    "# yada yada, you get the gist!"
   ]
  },
  {
   "cell_type": "code",
   "execution_count": null,
   "id": "1888cadd-1631-4be5-82de-9e8255ce50c5",
   "metadata": {},
   "outputs": [],
   "source": []
  }
 ],
 "metadata": {
  "kernelspec": {
   "display_name": "Python 3 (ipykernel)",
   "language": "python",
   "name": "python3"
  },
  "language_info": {
   "codemirror_mode": {
    "name": "ipython",
    "version": 3
   },
   "file_extension": ".py",
   "mimetype": "text/x-python",
   "name": "python",
   "nbconvert_exporter": "python",
   "pygments_lexer": "ipython3",
   "version": "3.12.4"
  }
 },
 "nbformat": 4,
 "nbformat_minor": 5
}
