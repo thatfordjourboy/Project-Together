{
 "cells": [
  {
   "cell_type": "code",
   "execution_count": null,
   "id": "d187341f-9c6e-4e2f-9ab0-ff5abd3ba75e",
   "metadata": {},
   "outputs": [],
   "source": []
  },
  {
   "cell_type": "code",
   "execution_count": 40,
   "id": "a3fe3840-daf5-4e7d-946e-f2e48a7a5983",
   "metadata": {},
   "outputs": [],
   "source": [
    "def remainder():\n",
    "    name = str(input(\"Please enter your name\\n\"))\n",
    "    age = int(input(\"Enter your age\\n\"))\n",
    "    global fav_col\n",
    "    fav_col = input(\"Please enter your favorite color\\n\")\n",
    "    print(f\"Welcome {name}, you have indicated that you are {age} years old and like {fav_col} the most.\\n Excellent choice!\")\n",
    "    print()\n",
    "    bal = 100 - age\n",
    "    print(\"So, how long till you die? Let's find out!\")\n",
    "    if bal > 25:\n",
    "        print(f\"Relax matey! You still have {bal} years until you hit 100. Get some booze tonight\")\n",
    "    elif bal > 50:\n",
    "        print(f\"Careful my friend, you have only {bal} years until you hit 100. Maybe you should pray tonight?\")\n",
    "    else:\n",
    "        print(f\"You should definitely be getting a will ready. You have just {bal} years until you are 100. We'll miss you for sure\")"
   ]
  },
  {
   "cell_type": "code",
   "execution_count": 42,
   "id": "60e6fb0b-766f-4f47-aeab-88a9c6983d24",
   "metadata": {},
   "outputs": [
    {
     "name": "stdin",
     "output_type": "stream",
     "text": [
      "Please enter your name\n",
      " Eleazer\n",
      "Enter your age\n",
      " 25\n",
      "Please enter your favorite color\n",
      " Red, Blue, Green\n"
     ]
    },
    {
     "name": "stdout",
     "output_type": "stream",
     "text": [
      "Welcome Eleazer, you have indicated that you are 25 years old and like Red, Blue, Green the most.\n",
      " Excellent choice!\n",
      "\n",
      "So, how long till you die? Let's find out!\n",
      "Relax matey! You still have 75 years until you hit 100. Get some booze tonight\n"
     ]
    }
   ],
   "source": [
    "remainder()"
   ]
  },
  {
   "cell_type": "code",
   "execution_count": 54,
   "id": "e6f40c37-7e37-466e-9c55-cdc950b17845",
   "metadata": {},
   "outputs": [
    {
     "data": {
      "text/plain": [
       "['R',\n",
       " 'e',\n",
       " 'd',\n",
       " ',',\n",
       " ' ',\n",
       " 'B',\n",
       " 'l',\n",
       " 'u',\n",
       " 'e',\n",
       " ',',\n",
       " ' ',\n",
       " 'G',\n",
       " 'r',\n",
       " 'e',\n",
       " 'e',\n",
       " 'n']"
      ]
     },
     "execution_count": 54,
     "metadata": {},
     "output_type": "execute_result"
    }
   ],
   "source": [
    "type(fav_col)\n",
    "updated_col = list(fav_col)\n",
    "updated_col"
   ]
  },
  {
   "cell_type": "code",
   "execution_count": 56,
   "id": "a98f911a-4fce-4f53-aaea-7ca51644a1d1",
   "metadata": {},
   "outputs": [],
   "source": [
    "#Users add to favorite color\n",
    "def update_col():\n",
    "    test = input(\"Do you want to change your choice of color(s)? Enter Yes/No\")\n",
    "    corrected_response = test.capitalize()\n",
    "    if not(corrected_response == \"Yes\" or corrected_response == \"No\"):\n",
    "        print(\"Error! Please enter either 'Yes' or 'No'\")\n",
    "    elif corrected_response == \"Yes\":\n",
    "        print(\"Great, what specific change do you want to make?\")\n",
    "        choice = input(\"Select one of the following:\\n A = Add a colour\\n B = Remove a colour\\n C = Update a colour choice\\n\")\n",
    "        formatted_choice = choice.upper()\n",
    "        while formatted_choice not in [\"A\", \"B\", \"C\"]:\n",
    "            print(\"Wrong input, please try again\\n\")\n",
    "            choice = input(\"Select one of the following:\\n A = Add a color\\n B = Remove a color\\n C = Update a color choice\\n\")\n",
    "            formatted_choice = choice.upper()\n",
    "        if formatted_choice == \"A\":\n",
    "            add_col = input(\"What new color(s) do you want to add please?\\n\")\n",
    "            \n",
    "    ## To be continued cus whew!\n",
    "\n",
    "    # return fav_col.extend(add_col)\n",
    "    elif corrected_response == \"No\":\n",
    "        print(\"Then, that will be all folks! See you later!\")"
   ]
  },
  {
   "cell_type": "code",
   "execution_count": 58,
   "id": "25466284-5f0c-437e-8f13-ac07d3ac87d1",
   "metadata": {},
   "outputs": [
    {
     "name": "stdin",
     "output_type": "stream",
     "text": [
      "Do you want to change your choice of color(s)? Enter Yes/No Yes\n"
     ]
    },
    {
     "name": "stdout",
     "output_type": "stream",
     "text": [
      "Great, what specific change do you want to make?\n"
     ]
    },
    {
     "name": "stdin",
     "output_type": "stream",
     "text": [
      "Select one of the following:\n",
      " A = Add a colour\n",
      " B = Remove a colour\n",
      " C = Update a colour choice\n",
      " P\n"
     ]
    },
    {
     "name": "stdout",
     "output_type": "stream",
     "text": [
      "Wrong input, please try again\n",
      "\n"
     ]
    },
    {
     "name": "stdin",
     "output_type": "stream",
     "text": [
      "Select one of the following:\n",
      " A = Add a color\n",
      " B = Remove a color\n",
      " C = Update a color choice\n",
      " a\n",
      "What new color(s) do you want to add please?\n",
      " basic\n"
     ]
    }
   ],
   "source": [
    "update_col()"
   ]
  },
  {
   "cell_type": "code",
   "execution_count": null,
   "id": "c6a4bc7b-24e2-4104-b9fe-9fa42d26e416",
   "metadata": {},
   "outputs": [],
   "source": []
  }
 ],
 "metadata": {
  "kernelspec": {
   "display_name": "Python 3 (ipykernel)",
   "language": "python",
   "name": "python3"
  },
  "language_info": {
   "codemirror_mode": {
    "name": "ipython",
    "version": 3
   },
   "file_extension": ".py",
   "mimetype": "text/x-python",
   "name": "python",
   "nbconvert_exporter": "python",
   "pygments_lexer": "ipython3",
   "version": "3.12.4"
  }
 },
 "nbformat": 4,
 "nbformat_minor": 5
}
