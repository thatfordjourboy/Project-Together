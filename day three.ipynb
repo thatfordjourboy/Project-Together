{
 "cells": [
  {
   "cell_type": "markdown",
   "id": "2a5f4326-9ee0-4557-a629-41c01856ed70",
   "metadata": {},
   "source": [
    "## #30DayofPythonCode – Day 3 Task: Practice control flow using conditional statements and loops"
   ]
  },
  {
   "cell_type": "markdown",
   "id": "4d375690-e3bc-4729-8208-b17908089e07",
   "metadata": {},
   "source": [
    "#### Part 1: Write a Python program using 'if', 'elif', and 'else' to check if a number is positive, negative, or zero.\n",
    "#### Part 2: Use a 'for' loop to print all even numbers from 1 to 100.\n",
    "#### Part 3: Use a 'while' loop to calculate the sum of numbers from 1 to 50."
   ]
  },
  {
   "cell_type": "code",
   "execution_count": 58,
   "id": "89603398-a2b1-494e-80c7-6b6d4ad748e5",
   "metadata": {},
   "outputs": [
    {
     "name": "stdin",
     "output_type": "stream",
     "text": [
      "Enter a number: 100\n"
     ]
    },
    {
     "name": "stdout",
     "output_type": "stream",
     "text": [
      "100 is a positive integer\n"
     ]
    }
   ],
   "source": [
    "# part 1\n",
    "x = int(input(\"Enter a number:\"))\n",
    "\n",
    "if x > 0:\n",
    "    print(f\"{x} is a positive integer\")\n",
    "elif x == 0:\n",
    "    print(f\"{x} equals zero!\")\n",
    "else:\n",
    "    print(f\"{x} is a negative integer\")"
   ]
  },
  {
   "cell_type": "code",
   "execution_count": 60,
   "id": "86a9237b-3a87-4d62-ae16-ca1f1d62342f",
   "metadata": {},
   "outputs": [
    {
     "name": "stdout",
     "output_type": "stream",
     "text": [
      "2\n",
      "4\n",
      "6\n",
      "8\n",
      "10\n",
      "12\n",
      "14\n",
      "16\n",
      "18\n",
      "20\n",
      "22\n",
      "24\n",
      "26\n",
      "28\n",
      "30\n",
      "32\n",
      "34\n",
      "36\n",
      "38\n",
      "40\n",
      "42\n",
      "44\n",
      "46\n",
      "48\n",
      "50\n",
      "52\n",
      "54\n",
      "56\n",
      "58\n",
      "60\n",
      "62\n",
      "64\n",
      "66\n",
      "68\n",
      "70\n",
      "72\n",
      "74\n",
      "76\n",
      "78\n",
      "80\n",
      "82\n",
      "84\n",
      "86\n",
      "88\n",
      "90\n",
      "92\n",
      "94\n",
      "96\n",
      "98\n",
      "100\n"
     ]
    }
   ],
   "source": [
    "# part 2\n",
    "x = range(1, 101)\n",
    "for number in x:\n",
    "    if (number % 2) == 0:\n",
    "        print(number)"
   ]
  },
  {
   "cell_type": "code",
   "execution_count": 62,
   "id": "dbeb611b-8085-459a-93d3-b5f0c8bbcff8",
   "metadata": {},
   "outputs": [
    {
     "name": "stdout",
     "output_type": "stream",
     "text": [
      "Sum of first 50 numbers is: 1275\n"
     ]
    }
   ],
   "source": [
    "# part 3\n",
    "sum = 0\n",
    "n = 1\n",
    "while n < 51:\n",
    "    sum = sum + n\n",
    "    n += 1\n",
    "print(\"Sum of first 50 numbers is:\",sum)"
   ]
  },
  {
   "cell_type": "markdown",
   "id": "73789752-9c92-437f-983a-d68d7c1adc88",
   "metadata": {},
   "source": [
    "#### Bonus Task: Write a Python program to generate the Fibonacci sequence up to n terms."
   ]
  },
  {
   "cell_type": "code",
   "execution_count": null,
   "id": "219ee3eb-db8b-4c9d-979e-ccb87da3eca4",
   "metadata": {},
   "outputs": [],
   "source": [
    "    "
   ]
  }
 ],
 "metadata": {
  "kernelspec": {
   "display_name": "Python 3 (ipykernel)",
   "language": "python",
   "name": "python3"
  },
  "language_info": {
   "codemirror_mode": {
    "name": "ipython",
    "version": 3
   },
   "file_extension": ".py",
   "mimetype": "text/x-python",
   "name": "python",
   "nbconvert_exporter": "python",
   "pygments_lexer": "ipython3",
   "version": "3.12.4"
  }
 },
 "nbformat": 4,
 "nbformat_minor": 5
}
