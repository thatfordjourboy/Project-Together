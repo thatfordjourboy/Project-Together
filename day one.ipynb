{
 "cells": [
  {
   "cell_type": "markdown",
   "id": "95ef949c-48f7-4d09-a0c0-eb88f3493c9f",
   "metadata": {},
   "source": [
    "## #30DayofPythonCode – Day 1 Task: Understand basic Python syntax, arithmetic operations, and user input/output."
   ]
  },
  {
   "cell_type": "markdown",
   "id": "d797cbff-f580-4e9a-a03b-651b4046b65e",
   "metadata": {},
   "source": [
    "#### Part 1: Write a Python program to take input from the user and perform basic arithmetic operations (addition, subtraction, multiplication, division).\n",
    "#### Part 2: Calculate the area of a rectangle using user inputs for width and height.\n",
    "#### Part 3: Write a program to convert temperature from Celsius to Fahrenheit."
   ]
  },
  {
   "cell_type": "code",
   "execution_count": 196,
   "id": "e426b8a7-55a3-4252-b0e6-40b42493834e",
   "metadata": {},
   "outputs": [
    {
     "name": "stdin",
     "output_type": "stream",
     "text": [
      "\n",
      "Enter two numbers, separated by a comma:\n",
      " 12,4\n"
     ]
    },
    {
     "name": "stdout",
     "output_type": "stream",
     "text": [
      "\n",
      "The outputs are as follows:\n",
      "Addition of 12 and 4 = 16\n",
      "Subtraction of 12 and 4 = 8\n",
      "Multiplication of 12 and 4 = 48\n",
      "Division of 12 and 4 = 3.0\n"
     ]
    }
   ],
   "source": [
    "# part_one\n",
    "prompt = input(\"\\nEnter two numbers, separated by a comma:\\n\").split(\",\")\n",
    "if len(prompt) > 2:\n",
    "    print(\"You have entered more than 2 numbers. Please try again\")\n",
    "elif len(prompt) < 2:\n",
    "    print(\"You need to enter exactly 2 numbers\")\n",
    "else:\n",
    "    try:\n",
    "        x = int(prompt[0])\n",
    "        y = int(prompt[1])\n",
    "    \n",
    "        addition = x + y\n",
    "        subtraction = x - y\n",
    "        multiplication = x * y\n",
    "        try:\n",
    "            division = x / y\n",
    "            print(f\"\\nThe outputs are as follows:\\n\"\n",
    "                  f\"Addition of {x} and {y} = {addition}\\nSubtraction of {x} and {y} = {subtraction}\\nMultiplication of {x} and {y} = {multiplication}\\nDivision of {x} and {y} = {division}\")\n",
    "        except ZeroDivisionError:\n",
    "            print(f\"\\nThe outputs are as follows:\\nAddition of {x} and {y} = {addition}\\nSubtraction of {x} and {y} = {subtraction}\\nMultiplication of {x} and {y} = {multiplication}\\nError! Cannot divide by 0\")\n",
    "    except ValueError:\n",
    "        print(\"Invalid Input. Please enter exactly two numbers, separated by a comma!\")"
   ]
  },
  {
   "cell_type": "code",
   "execution_count": 200,
   "id": "8390325c-5102-4d17-8c5b-a52ac18be673",
   "metadata": {
    "scrolled": true
   },
   "outputs": [
    {
     "name": "stdin",
     "output_type": "stream",
     "text": [
      "Enter the height of the rectangle\n",
      " 32, 1\n",
      "Enter the width of the rectangle\n",
      " 23\n"
     ]
    },
    {
     "name": "stdout",
     "output_type": "stream",
     "text": [
      "Error! You have entered a value which is not a number!\n"
     ]
    }
   ],
   "source": [
    "# part_two\n",
    "h = input(\"Enter the height of the rectangle\\n\")\n",
    "w = input(\"Enter the width of the rectangle\\n\")\n",
    "\n",
    "try:\n",
    "    height = int(h); width = int(w)\n",
    "    area = height * width\n",
    "    print(f\"The area of the rectangle is {area}\")\n",
    "except ValueError:\n",
    "    print(\"Error! Please input correct values for height and width!\")"
   ]
  },
  {
   "cell_type": "code",
   "execution_count": 214,
   "id": "39aa50a4-3346-4aba-b63f-7ff0b1e5aef8",
   "metadata": {},
   "outputs": [
    {
     "name": "stdin",
     "output_type": "stream",
     "text": [
      "Input temperature in degree celsius\n",
      " 54.98\n"
     ]
    },
    {
     "name": "stdout",
     "output_type": "stream",
     "text": [
      "54.98 degree celsius equals 130.964 degree Fahrenheit\n"
     ]
    }
   ],
   "source": [
    "# part_three\n",
    "scale = 32\n",
    "u_p = input(\"Input temperature in degree celsius\\n\")\n",
    "try:\n",
    "    celsiusTemp = float(u_p)\n",
    "    fahrenheitTemp = (celsiusTemp * 9/5) + scale\n",
    "    print(f\"{u_p} degree celsius equals {fahrenheitTemp} degree Fahrenheit\")\n",
    "except ValueError:\n",
    "    print(\"Please enter the correct temperature!\")"
   ]
  },
  {
   "cell_type": "code",
   "execution_count": 6,
   "id": "4d762217-60e5-42e0-9c73-4b26ac650737",
   "metadata": {},
   "outputs": [],
   "source": [
    "# part_three()"
   ]
  },
  {
   "cell_type": "markdown",
   "id": "385aa822-4eb9-4455-9dda-acd3641758cb",
   "metadata": {},
   "source": [
    "#### Bonus Task: \n",
    "Write a program to calculate the roots of a quadratic equation using the discriminant method\n",
    "\n",
    "(-b + ((4ac)**1/2))/2a."
   ]
  },
  {
   "cell_type": "code",
   "execution_count": 336,
   "id": "dc1faafe-54b1-48c3-981f-1f7748265faf",
   "metadata": {},
   "outputs": [
    {
     "name": "stdin",
     "output_type": "stream",
     "text": [
      "For a given equation ax^2 + bx + c, enter the values of a, b and c accordingly, separated by commas 1,3,4\n"
     ]
    },
    {
     "name": "stdout",
     "output_type": "stream",
     "text": [
      "The roots of the equation are (-1.5+1.3228756555322954j) and (-1.5-1.3228756555322954j)\n"
     ]
    }
   ],
   "source": [
    "eqn = input(\"For a given equation ax^2 + bx + c, enter the values of a, b and c accordingly, separated by commas\").split(\",\")\n",
    "try:\n",
    "    a = float(eqn[0])\n",
    "    b = float(eqn[1])\n",
    "    c = float(eqn[2])\n",
    "    discrimant = ((b**2) - 4*a*c)\n",
    "    rt_disc = discrimant ** (1/2)\n",
    "    pos_numerator = -b + rt_disc\n",
    "    neg_numerator = -b - rt_disc\n",
    "    quad_eqn_1 = pos_numerator / (2*a)\n",
    "    quad_eqn_2 = neg_numerator / (2*a)\n",
    "    print(f\"The roots of the equation are {quad_eqn_1} and {quad_eqn_2}\")\n",
    "except IndexError:\n",
    "    print(\"Error! Please enter accurate values for a, b and c.\")\n",
    "except ValueError:\n",
    "    print(\"Error! Please enter real numbers!\")\n",
    "except ZeroDivisionError:\n",
    "    print(\"Error! The value of 'a' cannot be zero for a  quadratic equation\")"
   ]
  },
  {
   "cell_type": "code",
   "execution_count": 252,
   "id": "1128b730-a72b-4127-9da1-365035b1d2c7",
   "metadata": {},
   "outputs": [
    {
     "data": {
      "text/plain": [
       "5.0"
      ]
     },
     "execution_count": 252,
     "metadata": {},
     "output_type": "execute_result"
    }
   ],
   "source": [
    "c"
   ]
  },
  {
   "cell_type": "code",
   "execution_count": 288,
   "id": "fe892483-1b2c-4033-a40a-221f5b94dfe6",
   "metadata": {},
   "outputs": [
    {
     "data": {
      "text/plain": [
       "2.0"
      ]
     },
     "execution_count": 288,
     "metadata": {},
     "output_type": "execute_result"
    }
   ],
   "source": [
    "4**0.5"
   ]
  },
  {
   "cell_type": "code",
   "execution_count": 286,
   "id": "61a03470-f01e-42a0-9ca0-ecec12089d16",
   "metadata": {},
   "outputs": [
    {
     "data": {
      "text/plain": [
       "5"
      ]
     },
     "execution_count": 286,
     "metadata": {},
     "output_type": "execute_result"
    }
   ],
   "source": [
    "4^1"
   ]
  },
  {
   "cell_type": "code",
   "execution_count": null,
   "id": "7ae1455f-e640-4310-8f1e-afaf3bccf96e",
   "metadata": {},
   "outputs": [],
   "source": []
  }
 ],
 "metadata": {
  "kernelspec": {
   "display_name": "Python 3 (ipykernel)",
   "language": "python",
   "name": "python3"
  },
  "language_info": {
   "codemirror_mode": {
    "name": "ipython",
    "version": 3
   },
   "file_extension": ".py",
   "mimetype": "text/x-python",
   "name": "python",
   "nbconvert_exporter": "python",
   "pygments_lexer": "ipython3",
   "version": "3.12.4"
  }
 },
 "nbformat": 4,
 "nbformat_minor": 5
}
