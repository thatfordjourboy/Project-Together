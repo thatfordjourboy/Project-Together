{
 "cells": [
  {
   "cell_type": "markdown",
   "id": "95ef949c-48f7-4d09-a0c0-eb88f3493c9f",
   "metadata": {},
   "source": [
    "## #30DayofPythonCode – Day 1 Task: Understand basic Python syntax, arithmetic operations, and user input/output."
   ]
  },
  {
   "cell_type": "markdown",
   "id": "d797cbff-f580-4e9a-a03b-651b4046b65e",
   "metadata": {},
   "source": [
    "#### Part 1: Write a Python program to take input from the user and perform basic arithmetic operations (addition, subtraction, multiplication, division).\n",
    "#### Part 2: Calculate the area of a rectangle using user inputs for width and height.\n",
    "#### Part 3: Write a program to convert temperature from Celsius to Fahrenheit."
   ]
  },
  {
   "cell_type": "code",
   "execution_count": 429,
   "id": "e426b8a7-55a3-4252-b0e6-40b42493834e",
   "metadata": {},
   "outputs": [],
   "source": [
    "def part_one():\n",
    "    n = 1\n",
    "    request = []\n",
    "    for i in range(n):\n",
    "        prompt = input(\"\\nEnter two numbers: \").split()\n",
    "    if len(prompt) > 2:\n",
    "        print(\"You have entered more than 2 numbers. Please try again\")\n",
    "    elif len(prompt) < 2:\n",
    "        print(\"You need to enter exactly 2 numbers\")\n",
    "    else:\n",
    "        request.append(prompt)\n",
    "        print(request)\n",
    "    for number in request:\n",
    "        x = int(request[0][0])\n",
    "        y = int(request[0][1])\n",
    "    addition = x + y\n",
    "    subtraction = x - y\n",
    "    multiplication = x * y\n",
    "    try:\n",
    "        if y != 0:\n",
    "            division = x / y\n",
    "            sum_statement = f\"The sum of {x} and {y} is {addition}\"\n",
    "            difference_statement = f\"The difference between {x} and {y} is {subtraction}\"\n",
    "            product_statememt = f\"The product of {x} and {y} is {multiplication}\"\n",
    "            outcome = print(f\"\\nThank you for your entry. These are the outcomes:\\n\\n{sum_statement}\\n{difference_statement}\\n{product_statememt}\\n{division_statement}\")\n",
    "            division_statement = f\"The division of {x} and {y} equals {division}\"\n",
    "            return outcome\n",
    "    except:\n",
    "        sum_statement = f\"The sum of {x} and {y} is {addition}\"\n",
    "        difference_statement = f\"The difference between {x} and {y} is {subtraction}\"\n",
    "        product_statememt = f\"The product of {x} and {y} is {multiplication}\"\n",
    "        Error = f\"Division by 0 is not possible\"\n",
    "        outcome = print(f\"\\nThank you for your entry. These are the outcomes:\\n\\n{sum_statement}\\n{difference_statement}\\n{product_statememt}\\n{Error}\")\n",
    "    return outcome"
   ]
  },
  {
   "cell_type": "code",
   "execution_count": 2,
   "id": "82712796-2c05-4e58-8978-538ef1831a58",
   "metadata": {},
   "outputs": [],
   "source": [
    "# part_one()"
   ]
  },
  {
   "cell_type": "code",
   "execution_count": 435,
   "id": "8390325c-5102-4d17-8c5b-a52ac18be673",
   "metadata": {},
   "outputs": [],
   "source": [
    "def part_two():\n",
    "    h = input(\"Enter the height of the rectangle\\n\")\n",
    "    w = input(\"Enter the width of the rectangle\\n\")\n",
    "    height = int(h); width = int(w)\n",
    "    area = height * width\n",
    "    return f\"The area of the rectangle is {area}\"   "
   ]
  },
  {
   "cell_type": "code",
   "execution_count": 4,
   "id": "c68aeff2-9176-4a3b-9754-492490197388",
   "metadata": {},
   "outputs": [],
   "source": [
    "# part_two()"
   ]
  },
  {
   "cell_type": "code",
   "execution_count": 371,
   "id": "39aa50a4-3346-4aba-b63f-7ff0b1e5aef8",
   "metadata": {},
   "outputs": [],
   "source": [
    "def part_three():\n",
    "    scale = 32\n",
    "    u_p = input(\"Input temperature in degree celsius\\n\")\n",
    "    user_prompt = int(u_p)\n",
    "    converter = (user_prompt * 9/5) + scale\n",
    "    return f\"{u_p} degree celsius equals {converter} degree Fahrenheit\""
   ]
  },
  {
   "cell_type": "code",
   "execution_count": 6,
   "id": "4d762217-60e5-42e0-9c73-4b26ac650737",
   "metadata": {},
   "outputs": [],
   "source": [
    "# part_three()"
   ]
  },
  {
   "cell_type": "code",
   "execution_count": null,
   "id": "0b3ac38f-111e-4e31-860d-5487260530ed",
   "metadata": {},
   "outputs": [],
   "source": []
  }
 ],
 "metadata": {
  "kernelspec": {
   "display_name": "Python 3 (ipykernel)",
   "language": "python",
   "name": "python3"
  },
  "language_info": {
   "codemirror_mode": {
    "name": "ipython",
    "version": 3
   },
   "file_extension": ".py",
   "mimetype": "text/x-python",
   "name": "python",
   "nbconvert_exporter": "python",
   "pygments_lexer": "ipython3",
   "version": "3.12.4"
  }
 },
 "nbformat": 4,
 "nbformat_minor": 5
}
